{
  "nbformat": 4,
  "nbformat_minor": 0,
  "metadata": {
    "colab": {
      "provenance": [],
      "gpuType": "T4",
      "authorship_tag": "ABX9TyOfGVe31DtzaH3Epw24r3j6",
      "include_colab_link": true
    },
    "kernelspec": {
      "name": "python3",
      "display_name": "Python 3"
    },
    "language_info": {
      "name": "python"
    },
    "accelerator": "GPU"
  },
  "cells": [
    {
      "cell_type": "markdown",
      "metadata": {
        "id": "view-in-github",
        "colab_type": "text"
      },
      "source": [
        "<a href=\"https://colab.research.google.com/github/KadinRelefourd/neuralnetworkclassifier/blob/main/final.ipynb\" target=\"_parent\"><img src=\"https://colab.research.google.com/assets/colab-badge.svg\" alt=\"Open In Colab\"/></a>"
      ]
    },
    {
      "cell_type": "markdown",
      "source": [
        "colab inviornment"
      ],
      "metadata": {
        "id": "dZLVcLoW9zD1"
      }
    },
    {
      "cell_type": "code",
      "source": [],
      "metadata": {
        "id": "LYtPEdnm97i_"
      },
      "execution_count": null,
      "outputs": []
    },
    {
      "cell_type": "markdown",
      "source": [
        "Imports"
      ],
      "metadata": {
        "id": "UW7iqcpe78L1"
      }
    },
    {
      "cell_type": "code",
      "execution_count": 2,
      "metadata": {
        "id": "Vqlwu1Uu535l"
      },
      "outputs": [],
      "source": [
        "import os\n",
        "import cv2  # OpenCV for image processing\n",
        "import torch\n",
        "import torch.nn as nn\n",
        "import torch.nn.functional as F\n",
        "import torch.optim as optim\n",
        "import torchvision\n",
        "from torchvision import transforms\n",
        "from torch.utils.data import DataLoader"
      ]
    },
    {
      "cell_type": "markdown",
      "source": [
        "Prepare Training and Testing data"
      ],
      "metadata": {
        "id": "lFVW_Z6a-Gby"
      }
    },
    {
      "cell_type": "code",
      "source": [
        "transform = transforms.ToTensor()\n",
        "\n",
        "train_data = torchvision.datasets.CIFAR10(\n",
        "    root='./data.cifar10',\n",
        "    train=True,\n",
        "    transform=transform,\n",
        "    download=True\n",
        ")\n",
        "train_loader = DataLoader(dataset=train_data, batch_size=64, shuffle=True)\n",
        "\n",
        "test_data = torchvision.datasets.CIFAR10(\n",
        "    root='./data.cifar10',\n",
        "    train=False,\n",
        "    transform=transform,\n",
        "    download=True\n",
        ")\n",
        "test_loader = DataLoader(dataset=test_data, batch_size=64, shuffle=False)"
      ],
      "metadata": {
        "colab": {
          "base_uri": "https://localhost:8080/"
        },
        "id": "3YA3Ueyp-LAy",
        "outputId": "771dc0c3-624d-4a78-c580-fd24bf205f17"
      },
      "execution_count": 3,
      "outputs": [
        {
          "output_type": "stream",
          "name": "stdout",
          "text": [
            "Downloading https://www.cs.toronto.edu/~kriz/cifar-10-python.tar.gz to ./data.cifar10/cifar-10-python.tar.gz\n"
          ]
        },
        {
          "output_type": "stream",
          "name": "stderr",
          "text": [
            "100%|██████████| 170M/170M [00:18<00:00, 9.10MB/s]\n"
          ]
        },
        {
          "output_type": "stream",
          "name": "stdout",
          "text": [
            "Extracting ./data.cifar10/cifar-10-python.tar.gz to ./data.cifar10\n",
            "Files already downloaded and verified\n"
          ]
        }
      ]
    },
    {
      "cell_type": "markdown",
      "source": [
        "Build model"
      ],
      "metadata": {
        "id": "oaw4gBlL-MrO"
      }
    },
    {
      "cell_type": "code",
      "source": [
        "class My_XXXnet(nn.Module):\n",
        "    def __init__(self):\n",
        "        super(My_XXXnet, self).__init__()\n",
        "        self.fc1 = nn.Linear(32 * 32 * 3, 512)  # Input size: CIFAR-10 images are 32x32x3\n",
        "        self.fc2 = nn.Linear(512, 256)\n",
        "        self.fc3 = nn.Linear(256, 128)\n",
        "        self.fc4 = nn.Linear(128, 64)\n",
        "        self.fc5 = nn.Linear(64, 10)  # Output size: 10 classes (CIFAR-10)\n",
        "\n",
        "    def forward(self, x):\n",
        "        x = x.view(x.size(0), -1)  # Flatten the input image\n",
        "        x = F.relu(self.fc1(x))\n",
        "        x = F.dropout(x, p=0.5)  # Apply dropout for regularization\n",
        "        x = F.relu(self.fc2(x))\n",
        "        x = F.dropout(x, p=0.5)\n",
        "        x = F.relu(self.fc3(x))\n",
        "        x = F.dropout(x)\n",
        "        x = F.relu(self.fc4(x))\n",
        "        x = self.fc5(x)\n",
        "        return x\n",
        "\n",
        "model = My_XXXnet()\n",
        "loss_func = nn.CrossEntropyLoss()  # CrossEntropyLoss includes softmax internally\n",
        "optimizer = optim.Adam(model.parameters(), lr=0.001, weight_decay=1e-4)"
      ],
      "metadata": {
        "id": "nmtGhK8Q-Tvd"
      },
      "execution_count": 21,
      "outputs": []
    },
    {
      "cell_type": "markdown",
      "source": [
        "Testing Function"
      ],
      "metadata": {
        "id": "GfJg-NnS-WC4"
      }
    },
    {
      "cell_type": "code",
      "source": [
        "def test():\n",
        "    model.eval()  # Switch to evaluation mode\n",
        "    correct = 0\n",
        "    total = 0\n",
        "    total_loss = 0.0\n",
        "\n",
        "    with torch.no_grad():\n",
        "        for inputs, targets in test_loader:\n",
        "            outputs = model(inputs)\n",
        "            loss = loss_func(outputs, targets)\n",
        "            total_loss += loss.item()\n",
        "            _, predicted = torch.max(outputs.data, 1)\n",
        "            total += targets.size(0)\n",
        "            correct += (predicted == targets).sum().item()\n",
        "\n",
        "    accuracy = 100 * correct / total\n",
        "    return total_loss / len(test_loader), accuracy"
      ],
      "metadata": {
        "id": "s7sAIYwp-a55"
      },
      "execution_count": 12,
      "outputs": []
    },
    {
      "cell_type": "markdown",
      "source": [
        "Training Accuracy"
      ],
      "metadata": {
        "id": "C1gHEGEgDmSd"
      }
    },
    {
      "cell_type": "code",
      "source": [
        "def train_accuracy():\n",
        "    model.eval()  # Switch to evaluation mode for accuracy calculation on training data\n",
        "    correct = 0\n",
        "    total = 0\n",
        "\n",
        "    with torch.no_grad():\n",
        "        for inputs, targets in train_loader:\n",
        "            outputs = model(inputs)\n",
        "            _, predicted = torch.max(outputs.data, 1)\n",
        "            total += targets.size(0)\n",
        "            correct += (predicted == targets).sum().item()\n",
        "\n",
        "    return 100 * correct / total"
      ],
      "metadata": {
        "id": "WA91tfWGDr2v"
      },
      "execution_count": 13,
      "outputs": []
    },
    {
      "cell_type": "markdown",
      "source": [
        "Save Model function"
      ],
      "metadata": {
        "id": "uuxnBZYZ-pLb"
      }
    },
    {
      "cell_type": "code",
      "source": [
        "def save_model(epoch):\n",
        "    if not os.path.exists('./model'):\n",
        "        os.makedirs('./model')\n",
        "    torch.save(model.state_dict(), './model/model.ckpt')  # Save with fixed filename\n",
        "    print(f\"Model saved in file: ./model/model.ckpt\")"
      ],
      "metadata": {
        "id": "ygU-J95x-zU8"
      },
      "execution_count": 18,
      "outputs": []
    },
    {
      "cell_type": "markdown",
      "source": [
        "Load Model Funciont"
      ],
      "metadata": {
        "id": "MjFxIcLZ-3Zs"
      }
    },
    {
      "cell_type": "code",
      "source": [
        "def load_model(model_path):\n",
        "    model.load_state_dict(torch.load(model_path))\n",
        "    print(\"Model loaded successfully.\")"
      ],
      "metadata": {
        "id": "WZn7rdkC-7Qt"
      },
      "execution_count": 7,
      "outputs": []
    },
    {
      "cell_type": "markdown",
      "source": [
        "Train Function\n"
      ],
      "metadata": {
        "id": "NxTosHPZ-_PF"
      }
    },
    {
      "cell_type": "code",
      "source": [
        "def train():\n",
        "    print(f\"{'Loop':<8}{'Train Loss':<15}{'Train Acc %':<15}{'Test Loss':<15}{'Test Acc %':<15}\")\n",
        "\n",
        "    last_train_acc = 0  # Track the last training accuracy\n",
        "\n",
        "    for epoch in range(10):  # Train for 10 epochs\n",
        "        model.train()  # Set the model to training mode\n",
        "\n",
        "        total_loss = 0.0\n",
        "\n",
        "        for inputs, targets in train_loader:\n",
        "            optimizer.zero_grad()\n",
        "            outputs = model(inputs)\n",
        "            loss = loss_func(outputs, targets)\n",
        "            loss.backward()\n",
        "            optimizer.step()\n",
        "\n",
        "            total_loss += loss.item()\n",
        "\n",
        "        # Evaluate after each epoch\n",
        "        train_acc = train_accuracy()\n",
        "        test_loss, test_accuracy = test()\n",
        "\n",
        "        # Ensure training accuracy only goes up\n",
        "        if train_acc < last_train_acc:\n",
        "            print(f\"Warning: Training accuracy decreased from {last_train_acc:.2f}% to {train_acc:.2f}%\")\n",
        "        last_train_acc = train_acc  # Update last training accuracy\n",
        "\n",
        "        print(f\"{epoch + 1}/10   {total_loss / len(train_loader):<15.4f}{train_acc:<15.2f}{test_loss:<15.4f}{test_accuracy:<15.2f}\")\n",
        "\n",
        "        # Save the model only after the last epoch (10th epoch)\n",
        "        if epoch == 9:\n",
        "            save_model(epoch)\n"
      ],
      "metadata": {
        "id": "HQtCdVJC_Jxv"
      },
      "execution_count": 17,
      "outputs": []
    },
    {
      "cell_type": "markdown",
      "source": [
        "Test Function"
      ],
      "metadata": {
        "id": "l5xReWaR_NNx"
      }
    },
    {
      "cell_type": "code",
      "source": [
        "def classify(image_path):\n",
        "    load_model('./model/model_epoch_9.pt')  # Load the best model from training\n",
        "    model.eval()\n",
        "\n",
        "    # Read the image using OpenCV and preprocess it\n",
        "    img = cv2.imread(image_path)  # Load image as a NumPy array (BGR format)\n",
        "\n",
        "    if img is None:\n",
        "        print(\"Error: Image not found or invalid path.\")\n",
        "        return\n",
        "\n",
        "    img = cv2.cvtColor(img, cv2.COLOR_BGR2RGB)  # Convert BGR to RGB format (CIFAR-10 uses RGB)\n",
        "    img_resized = cv2.resize(img, (32, 32))  # Resize to CIFAR-10 dimensions (32x32)\n",
        "\n",
        "    img_tensor = transform(img_resized).unsqueeze(0)  # Convert to tensor and add batch dimension\n",
        "\n",
        "    with torch.no_grad():\n",
        "        output = model(img_tensor)\n",
        "        _, predicted_class = torch.max(output.data, 1)\n",
        "\n",
        "    classes = train_data.classes\n",
        "    print(f'Prediction result: {classes[predicted_class.item()]}')"
      ],
      "metadata": {
        "id": "U7OcjPEm_U7d"
      },
      "execution_count": 9,
      "outputs": []
    },
    {
      "cell_type": "markdown",
      "source": [
        "Command Line prompts"
      ],
      "metadata": {
        "id": "qu_4nh7o_b7S"
      }
    },
    {
      "cell_type": "code",
      "source": [
        "if __name__ == \"__main__\":\n",
        "    import sys\n",
        "\n",
        "    command = sys.argv[1]\n",
        "\n",
        "    if command == \"train\":\n",
        "        train()\n",
        "\n",
        "    elif command == \"test\":\n",
        "        image_path = sys.argv[2]\n",
        "        classify(image_path)"
      ],
      "metadata": {
        "id": "vA1MWw0x_a-9"
      },
      "execution_count": 10,
      "outputs": []
    },
    {
      "cell_type": "markdown",
      "source": [
        "Run Training"
      ],
      "metadata": {
        "id": "-GGMmiO1AQG5"
      }
    },
    {
      "cell_type": "code",
      "source": [
        "train()"
      ],
      "metadata": {
        "colab": {
          "base_uri": "https://localhost:8080/"
        },
        "id": "K0sq0hq5AZr2",
        "outputId": "3d416700-81be-45ff-9d75-d0d31bdbfe12"
      },
      "execution_count": null,
      "outputs": [
        {
          "output_type": "stream",
          "name": "stdout",
          "text": [
            "Loop    Train Loss     Train Acc %    Test Loss      Test Acc %     \n",
            "1/10   2.1182         22.18          2.0394         21.92          \n",
            "2/10   2.0045         25.01          1.9670         25.00          \n"
          ]
        }
      ]
    },
    {
      "cell_type": "markdown",
      "source": [],
      "metadata": {
        "id": "8K6epvE1AYoZ"
      }
    }
  ]
}