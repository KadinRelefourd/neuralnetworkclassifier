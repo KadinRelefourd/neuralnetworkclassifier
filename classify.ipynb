{
  "cells": [
    {
      "cell_type": "markdown",
      "metadata": {
        "id": "view-in-github",
        "colab_type": "text"
      },
      "source": [
        "<a href=\"https://colab.research.google.com/github/KadinRelefourd/neuralnetworkclassifier/blob/main/classify.ipynb\" target=\"_parent\"><img src=\"https://colab.research.google.com/assets/colab-badge.svg\" alt=\"Open In Colab\"/></a>"
      ]
    },
    {
      "cell_type": "code",
      "execution_count": 3,
      "metadata": {
        "colab": {
          "base_uri": "https://localhost:8080/"
        },
        "id": "YrHzDkNoq3Bq",
        "outputId": "38e47e36-f462-4e73-9945-ccabed5af119"
      },
      "outputs": [
        {
          "output_type": "stream",
          "name": "stdout",
          "text": [
            "Using device: cuda\n",
            "Files already downloaded and verified\n"
          ]
        }
      ],
      "source": [
        "import torch\n",
        "import torch.nn as nn\n",
        "import torch.nn.functional as F\n",
        "import torch.utils.data as Data\n",
        "import torchvision\n",
        "import torchvision.transforms as transforms\n",
        "import os\n",
        "import cv2\n",
        "import sys\n",
        "\n",
        "# Device configuration\n",
        "USE_CUDA = torch.cuda.is_available()\n",
        "device = torch.device(\"cuda\" if USE_CUDA else \"cpu\")\n",
        "print(f\"Using device: {device}\")\n",
        "\n",
        "# Data preparation (CIFAR-10 dataset)\n",
        "transform = transforms.Compose([\n",
        "    transforms.ToTensor(),\n",
        "    transforms.Normalize((0.5, 0.5, 0.5), (0.5, 0.5, 0.5)),\n",
        "    transforms.Lambda(lambda x: x.view(-1))  # Flatten to 3072 features (32x32x3)\n",
        "])\n",
        "\n",
        "train_data = torchvision.datasets.CIFAR10(\n",
        "    root='./data', train=True, transform=transform, download=True)\n",
        "test_data = torchvision.datasets.CIFAR10(\n",
        "    root='./data', train=False, transform=transform)\n",
        "\n",
        "train_loader = Data.DataLoader(dataset=train_data, batch_size=64, shuffle=True)\n",
        "test_loader = Data.DataLoader(dataset=test_data, batch_size=64)\n",
        "\n",
        "# Neural network definition\n",
        "class Net(nn.Module):\n",
        "    def __init__(self, n_input, n_hidden_1, n_hidden_2, n_output):\n",
        "        super(Net, self).__init__()\n",
        "        self.hidden1 = nn.Linear(n_input, n_hidden_1)\n",
        "        self.hidden2 = nn.Linear(n_hidden_1, n_hidden_2)\n",
        "        self.out = nn.Linear(n_hidden_2, n_output)\n",
        "        self.dropout = nn.Dropout(0.5)  # Dropout for regularization\n",
        "\n",
        "    def forward(self, x):\n",
        "        x = F.relu(self.hidden1(x))\n",
        "        x = self.dropout(x)  # Apply dropout after activation\n",
        "        x = F.relu(self.hidden2(x))\n",
        "        x = self.dropout(x)\n",
        "        return self.out(x)\n",
        "\n",
        "# Initialize model\n",
        "model = Net(3072, 512, 256, 10).to(device)  # Input size is 3072 for CIFAR-10 images\n",
        "loss_func = nn.CrossEntropyLoss()\n",
        "optimizer = torch.optim.Adam(model.parameters(), lr=0.001)\n",
        "\n",
        "# Training function\n",
        "def train():\n",
        "    for epoch in range(10):  # Train for 10 epochs\n",
        "        model.train()\n",
        "        running_loss = 0.0\n",
        "        correct_train = 0\n",
        "        total_train = 0\n",
        "\n",
        "        for step, (x, y) in enumerate(train_loader):\n",
        "            x, y = x.to(device), y.to(device)\n",
        "\n",
        "            # Forward pass and optimization\n",
        "            optimizer.zero_grad()\n",
        "            outputs = model(x)\n",
        "            loss = loss_func(outputs, y)\n",
        "            loss.backward()\n",
        "            optimizer.step()\n",
        "\n",
        "            running_loss += loss.item()\n",
        "\n",
        "            _, predicted_train = torch.max(outputs.data, 1)\n",
        "            total_train += y.size(0)\n",
        "            correct_train += (predicted_train == y).sum().item()\n",
        "\n",
        "        # Calculate train accuracy and test accuracy/loss after each epoch\n",
        "        train_acc = 100 * correct_train / total_train\n",
        "        test_loss, test_acc = test()\n",
        "\n",
        "        print(f'{epoch+1}/10\\t{running_loss/len(train_loader):.4f}\\t{train_acc:.4f}\\t{test_loss:.4f}\\t{test_acc:.4f}')\n",
        "\n",
        "        save_model()  # Save the model after each epoch\n",
        "\n",
        "# Testing function\n",
        "def test():\n",
        "    model.eval()  # Set model to evaluation mode\n",
        "    correct_test = 0\n",
        "    total_test = 0\n",
        "    running_test_loss = 0.0\n",
        "\n",
        "    with torch.no_grad():\n",
        "        for x, y in test_loader:\n",
        "            x, y = x.to(device), y.to(device)\n",
        "            outputs = model(x)\n",
        "            loss = loss_func(outputs, y)\n",
        "            running_test_loss += loss.item()\n",
        "\n",
        "            _, predicted_test = torch.max(outputs.data, 1)\n",
        "            total_test += y.size(0)\n",
        "            correct_test += (predicted_test == y).sum().item()\n",
        "\n",
        "    test_acc = 100 * correct_test / total_test\n",
        "    return running_test_loss / len(test_loader), test_acc\n",
        "\n",
        "# Save the trained model to disk\n",
        "def save_model():\n",
        "    if not os.path.exists('./model'):\n",
        "        os.makedirs('./model')\n",
        "    torch.save(model.state_dict(), './model/model.ckpt')\n",
        "\n",
        "# Load a trained model from disk\n",
        "def load_model():\n",
        "    model.load_state_dict(torch.load('./model/model.ckpt'))\n",
        "    model.eval()\n",
        "\n",
        "# Predict the class of a single image file\n",
        "def predict_image(image_path):\n",
        "    load_model()\n",
        "\n",
        "    # Read and preprocess the image using OpenCV and PyTorch transforms\n",
        "    image = cv2.imread(image_path)\n",
        "    image = cv2.resize(image, (32, 32))  # Resize to CIFAR-10 dimensions (32x32)\n",
        "    image_tensor = torch.tensor(image / 255.0).permute(2, 0, 1).float().unsqueeze(0).to(device)\n",
        "\n",
        "    with torch.no_grad():\n",
        "        outputs = model(image_tensor.view(-1))\n",
        "        _, predicted_class_idx = torch.max(outputs.data, 1)\n",
        "\n",
        "    classes = ['airplane', 'automobile', 'bird', 'cat', 'deer',\n",
        "               'dog', 'frog', 'horse', 'ship', 'truck']\n",
        "    return classes[predicted_class_idx.item()]\n",
        "\n",
        "# Main function to handle train/test commands in Colab or terminal environments\n",
        "if __name__ == \"__main__\":\n",
        "    args_list = sys.argv[1:]  # Get command-line arguments\n",
        "\n",
        "    if \"train\" in args_list:\n",
        "        print(\"Loop\\tTrain Loss\\tTrain Acc %\\tTest Loss\\tTest Acc %\")\n",
        "        train()\n",
        "    elif \"test\" in args_list:\n",
        "        if len(args_list) > args_list.index(\"test\") + 1:\n",
        "            image_path = args_list[args_list.index(\"test\") + 1]\n",
        "            print(f'Prediction result: {predict_image(image_path)}')\n",
        "        else:\n",
        "            print(\"Error: Please provide an image path for testing.\")\n"
      ]
    },
    {
      "cell_type": "markdown",
      "source": [],
      "metadata": {
        "id": "wvuB8LeRtIXR"
      }
    },
    {
      "cell_type": "code",
      "source": [
        "!pip install torch torchvision opencv-python\n",
        "!python classify.py train\n"
      ],
      "metadata": {
        "colab": {
          "base_uri": "https://localhost:8080/"
        },
        "id": "UGfMg7_btI94",
        "outputId": "486ee179-7f03-4e2e-989f-f66ccbaadd8b"
      },
      "execution_count": 6,
      "outputs": [
        {
          "output_type": "stream",
          "name": "stdout",
          "text": [
            "Requirement already satisfied: torch in /usr/local/lib/python3.11/dist-packages (2.5.1+cu121)\n",
            "Requirement already satisfied: torchvision in /usr/local/lib/python3.11/dist-packages (0.20.1+cu121)\n",
            "Requirement already satisfied: opencv-python in /usr/local/lib/python3.11/dist-packages (4.10.0.84)\n",
            "Requirement already satisfied: filelock in /usr/local/lib/python3.11/dist-packages (from torch) (3.17.0)\n",
            "Requirement already satisfied: typing-extensions>=4.8.0 in /usr/local/lib/python3.11/dist-packages (from torch) (4.12.2)\n",
            "Requirement already satisfied: networkx in /usr/local/lib/python3.11/dist-packages (from torch) (3.4.2)\n",
            "Requirement already satisfied: jinja2 in /usr/local/lib/python3.11/dist-packages (from torch) (3.1.5)\n",
            "Requirement already satisfied: fsspec in /usr/local/lib/python3.11/dist-packages (from torch) (2024.10.0)\n",
            "Requirement already satisfied: nvidia-cuda-nvrtc-cu12==12.1.105 in /usr/local/lib/python3.11/dist-packages (from torch) (12.1.105)\n",
            "Requirement already satisfied: nvidia-cuda-runtime-cu12==12.1.105 in /usr/local/lib/python3.11/dist-packages (from torch) (12.1.105)\n",
            "Requirement already satisfied: nvidia-cuda-cupti-cu12==12.1.105 in /usr/local/lib/python3.11/dist-packages (from torch) (12.1.105)\n",
            "Requirement already satisfied: nvidia-cudnn-cu12==9.1.0.70 in /usr/local/lib/python3.11/dist-packages (from torch) (9.1.0.70)\n",
            "Requirement already satisfied: nvidia-cublas-cu12==12.1.3.1 in /usr/local/lib/python3.11/dist-packages (from torch) (12.1.3.1)\n",
            "Requirement already satisfied: nvidia-cufft-cu12==11.0.2.54 in /usr/local/lib/python3.11/dist-packages (from torch) (11.0.2.54)\n",
            "Requirement already satisfied: nvidia-curand-cu12==10.3.2.106 in /usr/local/lib/python3.11/dist-packages (from torch) (10.3.2.106)\n",
            "Requirement already satisfied: nvidia-cusolver-cu12==11.4.5.107 in /usr/local/lib/python3.11/dist-packages (from torch) (11.4.5.107)\n",
            "Requirement already satisfied: nvidia-cusparse-cu12==12.1.0.106 in /usr/local/lib/python3.11/dist-packages (from torch) (12.1.0.106)\n",
            "Requirement already satisfied: nvidia-nccl-cu12==2.21.5 in /usr/local/lib/python3.11/dist-packages (from torch) (2.21.5)\n",
            "Requirement already satisfied: nvidia-nvtx-cu12==12.1.105 in /usr/local/lib/python3.11/dist-packages (from torch) (12.1.105)\n",
            "Requirement already satisfied: triton==3.1.0 in /usr/local/lib/python3.11/dist-packages (from torch) (3.1.0)\n",
            "Requirement already satisfied: sympy==1.13.1 in /usr/local/lib/python3.11/dist-packages (from torch) (1.13.1)\n",
            "Requirement already satisfied: nvidia-nvjitlink-cu12 in /usr/local/lib/python3.11/dist-packages (from nvidia-cusolver-cu12==11.4.5.107->torch) (12.8.61)\n",
            "Requirement already satisfied: mpmath<1.4,>=1.1.0 in /usr/local/lib/python3.11/dist-packages (from sympy==1.13.1->torch) (1.3.0)\n",
            "Requirement already satisfied: numpy in /usr/local/lib/python3.11/dist-packages (from torchvision) (1.26.4)\n",
            "Requirement already satisfied: pillow!=8.3.*,>=5.3.0 in /usr/local/lib/python3.11/dist-packages (from torchvision) (11.1.0)\n",
            "Requirement already satisfied: MarkupSafe>=2.0 in /usr/local/lib/python3.11/dist-packages (from jinja2->torch) (3.0.2)\n",
            "python3: can't open file '/content/classify.py': [Errno 2] No such file or directory\n"
          ]
        }
      ]
    }
  ],
  "metadata": {
    "accelerator": "GPU",
    "colab": {
      "gpuType": "T4",
      "provenance": [],
      "authorship_tag": "ABX9TyORYD3UNRua4otHhXqXaF39",
      "include_colab_link": true
    },
    "kernelspec": {
      "display_name": "Python 3",
      "name": "python3"
    },
    "language_info": {
      "name": "python"
    }
  },
  "nbformat": 4,
  "nbformat_minor": 0
}