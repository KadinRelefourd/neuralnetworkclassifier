{
  "nbformat": 4,
  "nbformat_minor": 0,
  "metadata": {
    "colab": {
      "provenance": [],
      "gpuType": "T4",
      "mount_file_id": "1yW48Afpe48mwHyqPMM3HEIxY_td4anlY",
      "authorship_tag": "ABX9TyOkbQDBIiB4bOS1kpgJ8eLh",
      "include_colab_link": true
    },
    "kernelspec": {
      "name": "python3",
      "display_name": "Python 3"
    },
    "language_info": {
      "name": "python"
    },
    "accelerator": "GPU"
  },
  "cells": [
    {
      "cell_type": "markdown",
      "metadata": {
        "id": "view-in-github",
        "colab_type": "text"
      },
      "source": [
        "<a href=\"https://colab.research.google.com/github/KadinRelefourd/neuralnetworkclassifier/blob/main/classify.ipynb\" target=\"_parent\"><img src=\"https://colab.research.google.com/assets/colab-badge.svg\" alt=\"Open In Colab\"/></a>"
      ]
    },
    {
      "cell_type": "markdown",
      "source": [
        "Imports"
      ],
      "metadata": {
        "id": "oGXqWq1Zz-Oj"
      }
    },
    {
      "cell_type": "code",
      "execution_count": null,
      "metadata": {
        "id": "6ckpqG3MzalJ",
        "colab": {
          "base_uri": "https://localhost:8080/"
        },
        "outputId": "cc6b3fdc-f39a-4940-9553-309cf2858b03"
      },
      "outputs": [
        {
          "output_type": "stream",
          "name": "stdout",
          "text": [
            "cuda\n"
          ]
        }
      ],
      "source": [
        "import torch\n",
        "import torch.nn as nn\n",
        "import torch.nn.functional as F\n",
        "import torch.utils.data as Data\n",
        "import torchvision\n",
        "import os\n",
        "import numpy as np\n",
        "import opencv as cv\n",
        "\n",
        "\n",
        "# Check your pytorch can use GPU or CPU only\n",
        "\n",
        "# Force to use CPU\n",
        "# torch.cuda.is_available = lambda : False\n",
        "\n",
        "USE_CUDA = torch.cuda.is_available()\n",
        "device = torch.device(\"cuda\" if USE_CUDA else \"cpu\")\n",
        "\n",
        "print(device)"
      ]
    },
    {
      "cell_type": "markdown",
      "source": [],
      "metadata": {
        "id": "KADg-pQ4a430"
      }
    },
    {
      "cell_type": "markdown",
      "source": [
        "Perpare Training and Test Data"
      ],
      "metadata": {
        "id": "LOFUhEaumLk1"
      }
    },
    {
      "cell_type": "code",
      "source": [
        "train_date = torchvision.datasets.CIFAR10(root='./data', train=True, transform=torchvision.transforms.ToTensor(), download=True)\n",
        "test_date = torchvision.datasets.CIFAR10(root='./data', train=False, transform=torchvision.transforms.ToTensor(), download=True)"
      ],
      "metadata": {
        "colab": {
          "base_uri": "https://localhost:8080/"
        },
        "id": "yEBRV9jvmsdn",
        "outputId": "1805dae9-ecae-4b49-d8ce-1050664adef5"
      },
      "execution_count": null,
      "outputs": [
        {
          "output_type": "stream",
          "name": "stdout",
          "text": [
            "Downloading https://www.cs.toronto.edu/~kriz/cifar-10-python.tar.gz to ./data/cifar-10-python.tar.gz\n"
          ]
        },
        {
          "output_type": "stream",
          "name": "stderr",
          "text": [
            "100%|██████████| 170M/170M [00:13<00:00, 12.6MB/s]\n"
          ]
        },
        {
          "output_type": "stream",
          "name": "stdout",
          "text": [
            "Extracting ./data/cifar-10-python.tar.gz to ./data\n",
            "Files already downloaded and verified\n"
          ]
        }
      ]
    },
    {
      "cell_type": "markdown",
      "source": [
        "Load Train and Test Data"
      ],
      "metadata": {
        "id": "tapy6ACGmNP3"
      }
    },
    {
      "cell_type": "code",
      "source": [
        "train_loader = Data.DataLoader(dataset=train_date, batch_size=64, shuffle=True)\n",
        "test_loader = Data.DataLoader(dataset=test_date, batch_size=64)"
      ],
      "metadata": {
        "id": "c63eNx8znGUZ"
      },
      "execution_count": null,
      "outputs": []
    },
    {
      "cell_type": "markdown",
      "source": [
        "Build the NN Model"
      ],
      "metadata": {
        "id": "mUpkQFE0nNWl"
      }
    },
    {
      "cell_type": "code",
      "source": [
        "class Net(nn.Module):\n",
        "  def __init__(self, n_input, n_hidden_1, n_hidden_2, n_output):\n",
        "    super(Net, self).__init__()\n",
        "  #input layer -> hidden layers -> output\n",
        "    self.hidden1 = nn.Linear(n_input, n_hidden_1)\n",
        "    self.hidden2 = nn.Linear(n_hidden_1, n_hidden_2)\n",
        "    self.out = nn.Linear(n_hidden_2, n_output)\n",
        "\n",
        "  def forward(self, x):\n",
        "        x = self.hidden1(x)\n",
        "        x = F.relu(x)  #activation functoin for the  first layer\n",
        "        x = self.hidden2(x)\n",
        "        x = F.relu(x) #activation functoin fo rthe last second layer\n",
        "        x = self.out(x)\n",
        "        return x\n",
        "\n",
        "model = Net(10,100,128,10)\n",
        "\n",
        "loss_func = nn.CrossEntropyLoss()\n",
        "optimizer = torch.optim.Adam(model.parameters(), lr=0.001)\n",
        "\n",
        "for epoch in range(10):\n",
        "  for step, (x, y) in enumerate(train_loader):\n",
        "    model.train()\n",
        "\n",
        "    if step % 50 == 0:\n",
        "      test()\n",
        "      save_model()\n",
        "\n",
        "def test(count):\n",
        "  model.eval()\n",
        "  print('Test set: Epoch[{}/10]:Step[{}] Accuracy: {}% '.format())\n",
        "\n",
        "def save_model():\n",
        "  torch.save(model.state_dict(), './model/')\n",
        "  os.remove('./model/')\n",
        "\n",
        "def load_model(model)"
      ],
      "metadata": {
        "colab": {
          "base_uri": "https://localhost:8080/",
          "height": 211
        },
        "id": "lnnaJnYYn0Mu",
        "outputId": "7189a409-6b7c-4137-b5c5-43caeea1dbdb"
      },
      "execution_count": null,
      "outputs": [
        {
          "output_type": "error",
          "ename": "NameError",
          "evalue": "name 'test' is not defined",
          "traceback": [
            "\u001b[0;31m---------------------------------------------------------------------------\u001b[0m",
            "\u001b[0;31mNameError\u001b[0m                                 Traceback (most recent call last)",
            "\u001b[0;32m<ipython-input-15-75b773c206b6>\u001b[0m in \u001b[0;36m<cell line: 0>\u001b[0;34m()\u001b[0m\n\u001b[1;32m     24\u001b[0m     \u001b[0mmodel\u001b[0m\u001b[0;34m.\u001b[0m\u001b[0mtrain\u001b[0m\u001b[0;34m(\u001b[0m\u001b[0;34m)\u001b[0m\u001b[0;34m\u001b[0m\u001b[0;34m\u001b[0m\u001b[0m\n\u001b[1;32m     25\u001b[0m     \u001b[0;32mif\u001b[0m \u001b[0mstep\u001b[0m\u001b[0;34m%\u001b[0m\u001b[0;36m50\u001b[0m \u001b[0;34m==\u001b[0m \u001b[0;36m0\u001b[0m\u001b[0;34m:\u001b[0m\u001b[0;34m\u001b[0m\u001b[0;34m\u001b[0m\u001b[0m\n\u001b[0;32m---> 26\u001b[0;31m       \u001b[0mtest\u001b[0m\u001b[0;34m(\u001b[0m\u001b[0;34m)\u001b[0m\u001b[0;34m\u001b[0m\u001b[0;34m\u001b[0m\u001b[0m\n\u001b[0m\u001b[1;32m     27\u001b[0m       \u001b[0msave_model\u001b[0m\u001b[0;34m(\u001b[0m\u001b[0;34m)\u001b[0m\u001b[0;34m\u001b[0m\u001b[0;34m\u001b[0m\u001b[0m\n\u001b[1;32m     28\u001b[0m     \u001b[0;32mdef\u001b[0m \u001b[0mtest\u001b[0m\u001b[0;34m(\u001b[0m\u001b[0;34m)\u001b[0m\u001b[0;34m:\u001b[0m\u001b[0;34m\u001b[0m\u001b[0;34m\u001b[0m\u001b[0m\n",
            "\u001b[0;31mNameError\u001b[0m: name 'test' is not defined"
          ]
        }
      ]
    }
  ]
}