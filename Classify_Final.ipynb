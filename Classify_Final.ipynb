{
  "cells": [
    {
      "cell_type": "markdown",
      "metadata": {
        "id": "view-in-github",
        "colab_type": "text"
      },
      "source": [
        "<a href=\"https://colab.research.google.com/github/KadinRelefourd/neuralnetworkclassifier/blob/main/Classify_Final.ipynb\" target=\"_parent\"><img src=\"https://colab.research.google.com/assets/colab-badge.svg\" alt=\"Open In Colab\"/></a>"
      ]
    },
    {
      "cell_type": "markdown",
      "metadata": {
        "id": "dZLVcLoW9zD1"
      },
      "source": [
        "colab inviornment"
      ]
    },
    {
      "cell_type": "code",
      "execution_count": null,
      "metadata": {
        "id": "LYtPEdnm97i_"
      },
      "outputs": [],
      "source": []
    },
    {
      "cell_type": "markdown",
      "metadata": {
        "id": "UW7iqcpe78L1"
      },
      "source": [
        "Imports"
      ]
    },
    {
      "cell_type": "code",
      "execution_count": 1,
      "metadata": {
        "id": "Vqlwu1Uu535l"
      },
      "outputs": [],
      "source": [
        "import os\n",
        "import cv2  # OpenCV for image processing\n",
        "import torch\n",
        "import torch.nn as nn\n",
        "import torch.nn.functional as F\n",
        "import torch.optim as optim\n",
        "import torchvision\n",
        "from torchvision import transforms\n",
        "from torch.utils.data import DataLoader"
      ]
    },
    {
      "cell_type": "markdown",
      "metadata": {
        "id": "lFVW_Z6a-Gby"
      },
      "source": [
        "Prepare Training and Testing data"
      ]
    },
    {
      "cell_type": "code",
      "execution_count": 2,
      "metadata": {
        "colab": {
          "base_uri": "https://localhost:8080/"
        },
        "id": "3YA3Ueyp-LAy",
        "outputId": "64d43626-1576-4638-f75e-8b83bf7a9844"
      },
      "outputs": [
        {
          "output_type": "stream",
          "name": "stdout",
          "text": [
            "Downloading https://www.cs.toronto.edu/~kriz/cifar-10-python.tar.gz to ./data.cifar10/cifar-10-python.tar.gz\n"
          ]
        },
        {
          "output_type": "stream",
          "name": "stderr",
          "text": [
            "100%|██████████| 170M/170M [00:05<00:00, 30.7MB/s]\n"
          ]
        },
        {
          "output_type": "stream",
          "name": "stdout",
          "text": [
            "Extracting ./data.cifar10/cifar-10-python.tar.gz to ./data.cifar10\n",
            "Files already downloaded and verified\n"
          ]
        }
      ],
      "source": [
        "transform = transforms.ToTensor()\n",
        "\n",
        "train_data = torchvision.datasets.CIFAR10(\n",
        "    root='./data.cifar10',\n",
        "    train=True,\n",
        "    transform=transform,\n",
        "    download=True\n",
        ")\n",
        "train_loader = DataLoader(dataset=train_data, batch_size=64, shuffle=True)\n",
        "\n",
        "test_data = torchvision.datasets.CIFAR10(\n",
        "    root='./data.cifar10',\n",
        "    train=False,\n",
        "    transform=transform,\n",
        "    download=True\n",
        ")\n",
        "test_loader = DataLoader(dataset=test_data, batch_size=64, shuffle=False)"
      ]
    },
    {
      "cell_type": "markdown",
      "metadata": {
        "id": "oaw4gBlL-MrO"
      },
      "source": [
        "Build model"
      ]
    },
    {
      "cell_type": "code",
      "execution_count": 3,
      "metadata": {
        "id": "nmtGhK8Q-Tvd"
      },
      "outputs": [],
      "source": [
        "class Net(nn.Module):\n",
        "    def __init__(self):\n",
        "        super(Net, self).__init__()\n",
        "        self.fc1 = nn.Linear(32 * 32 * 3, 512)  # Input size: CIFAR-10 images are 32x32x3\n",
        "        self.bn1 = nn.BatchNorm1d(512)\n",
        "        self.fc2 = nn.Linear(512, 256)\n",
        "        self.bn2 = nn.BatchNorm1d(256)\n",
        "        self.fc3 = nn.Linear(256, 128)\n",
        "        self.bn3 = nn.BatchNorm1d(128)\n",
        "        self.fc4 = nn.Linear(128, 64)\n",
        "        self.bn4 = nn.BatchNorm1d(64)\n",
        "        self.fc5 = nn.Linear(64, 10)  # Output size: 10 classes (CIFAR-10)\n",
        "\n",
        "    def forward(self, x):\n",
        "        x = x.view(x.size(0), -1)  # Flatten the input image\n",
        "        x = F.relu(self.bn1(self.fc1(x)))\n",
        "        x = F.dropout(x, p=0.3)  # Apply dropout for regularization\n",
        "        x = F.relu(self.bn2(self.fc2(x)))\n",
        "        x = F.dropout(x, p=0.3)\n",
        "        x = F.relu(self.bn3(self.fc3(x)))\n",
        "        x = F.dropout(x, p = 0.3)\n",
        "        x = F.relu(self.bn4(self.fc4(x)))\n",
        "        x = self.fc5(x)\n",
        "        return x\n",
        "\n",
        "model = Net()\n",
        "loss_func = nn.CrossEntropyLoss()  # CrossEntropyLoss includes softmax internally\n",
        "optimizer = optim.SGD(model.parameters(), lr=0.001, momentum=0.9, weight_decay=1e-4)"
      ]
    },
    {
      "cell_type": "markdown",
      "metadata": {
        "id": "GfJg-NnS-WC4"
      },
      "source": [
        "Testing Function"
      ]
    },
    {
      "cell_type": "code",
      "execution_count": 4,
      "metadata": {
        "id": "s7sAIYwp-a55"
      },
      "outputs": [],
      "source": [
        "def test():\n",
        "    model.eval()  # Switch the model to evaluation mode (disables dropout, batch norm updates)\n",
        "    correct = 0  # Initialize a counter for correctly predicted samples\n",
        "    total = 0  # Initialize a counter for the total number of samples\n",
        "    total_loss = 0.0  # Initialize a variable to accumulate the total loss\n",
        "\n",
        "    with torch.no_grad():  # Disable gradient computation (saves memory and speeds up inference)\n",
        "        for inputs, targets in test_loader:  # Iterate through the test dataset\n",
        "            outputs = model(inputs)  # Forward pass: get predictions from the model\n",
        "            loss = loss_func(outputs, targets)  # Compute the loss for the batch\n",
        "            total_loss += loss.item()  # Accumulate the total loss\n",
        "\n",
        "            _, predicted = torch.max(outputs.data, 1)  # Get the predicted class (highest probability)\n",
        "            total += targets.size(0)  # Update the total number of samples processed\n",
        "            correct += (predicted == targets).sum().item()  # Count correctly predicted samples\n",
        "\n",
        "    accuracy = 100 * correct / total  # Compute the accuracy percentage\n",
        "    return total_loss / len(test_loader), accuracy  # Return the average loss and accuracy\n"
      ]
    },
    {
      "cell_type": "markdown",
      "metadata": {
        "id": "C1gHEGEgDmSd"
      },
      "source": [
        "Training Accuracy"
      ]
    },
    {
      "cell_type": "code",
      "execution_count": 5,
      "metadata": {
        "id": "WA91tfWGDr2v"
      },
      "outputs": [],
      "source": [
        "def train_accuracy():\n",
        "    model.eval()  # Switch to evaluation mode for accuracy calculation on training data\n",
        "    correct = 0\n",
        "    total = 0\n",
        "\n",
        "    with torch.no_grad():\n",
        "        for inputs, targets in train_loader:\n",
        "            outputs = model(inputs)\n",
        "            _, predicted = torch.max(outputs.data, 1)\n",
        "            total += targets.size(0)\n",
        "            correct += (predicted == targets).sum().item()\n",
        "\n",
        "    return 100 * correct / total"
      ]
    },
    {
      "cell_type": "markdown",
      "metadata": {
        "id": "uuxnBZYZ-pLb"
      },
      "source": [
        "Save Model function"
      ]
    },
    {
      "cell_type": "code",
      "execution_count": 6,
      "metadata": {
        "id": "ygU-J95x-zU8"
      },
      "outputs": [],
      "source": [
        "def save_model(epoch):\n",
        "    if not os.path.exists('./model'):\n",
        "        os.makedirs('./model')\n",
        "    torch.save(model.state_dict(), './model/model.ckpt')  # Save with fixed filename\n",
        "    print(f\"Model saved in file: ./model/model.ckpt\")"
      ]
    },
    {
      "cell_type": "markdown",
      "metadata": {
        "id": "MjFxIcLZ-3Zs"
      },
      "source": [
        "Load Model Funciont"
      ]
    },
    {
      "cell_type": "code",
      "execution_count": 7,
      "metadata": {
        "id": "WZn7rdkC-7Qt"
      },
      "outputs": [],
      "source": [
        "def load_model(model_path):\n",
        "    model.load_state_dict(torch.load(model_path))\n",
        "    print(\"Model loaded successfully.\")"
      ]
    },
    {
      "cell_type": "markdown",
      "metadata": {
        "id": "NxTosHPZ-_PF"
      },
      "source": [
        "Train Function\n"
      ]
    },
    {
      "cell_type": "code",
      "execution_count": 8,
      "metadata": {
        "id": "HQtCdVJC_Jxv"
      },
      "outputs": [],
      "source": [
        "def train():\n",
        "    print(f\"{'Loop':<8}{'Train Loss':<15}{'Train Acc %':<15}{'Test Loss':<15}{'Test Acc %':<15}\")\n",
        "\n",
        "    last_train_acc = 0  # Track the last training accuracy\n",
        "\n",
        "    for epoch in range(10):  # Train for 10 epochs\n",
        "        model.train()  # Set the model to training mode\n",
        "        total_loss = 0.0\n",
        "        for inputs, targets in train_loader:\n",
        "            optimizer.zero_grad()\n",
        "            outputs = model(inputs)\n",
        "            loss = loss_func(outputs, targets)\n",
        "            loss.backward()\n",
        "            optimizer.step()\n",
        "\n",
        "            total_loss += loss.item()\n",
        "\n",
        "        # Evaluate after each epoch\n",
        "        train_acc = train_accuracy()\n",
        "        test_loss, test_accuracy = test()\n",
        "\n",
        "        # Ensure training accuracy only goes up\n",
        "        if train_acc < last_train_acc:\n",
        "         last_train_acc = train_acc  # Update last training accuracy\n",
        "\n",
        "        #this\n",
        "        print(f\"{epoch + 1}/10   {total_loss / len(train_loader):<15.4f}{train_acc:<15.2f}{test_loss:<15.4f}{test_accuracy:<15.2f}\")\n",
        "\n",
        "        # Save the model only after the last epoch (10th epoch)\n",
        "        if epoch == 9:\n",
        "            save_model(epoch)\n"
      ]
    },
    {
      "cell_type": "markdown",
      "metadata": {
        "id": "l5xReWaR_NNx"
      },
      "source": [
        "Test Function"
      ]
    },
    {
      "cell_type": "code",
      "execution_count": 9,
      "metadata": {
        "id": "U7OcjPEm_U7d"
      },
      "outputs": [],
      "source": [
        "def classify(image_path):\n",
        "    load_model('./model/model_epoch_9.pt')  # Load the best model from training\n",
        "    model.eval()\n",
        "\n",
        "    # Read the image using OpenCV and preprocess it\n",
        "    img = cv2.imread(image_path)  # Load image as a NumPy array (BGR format)\n",
        "\n",
        "    if img is None:\n",
        "        print(\"Error: Image not found or invalid path.\")\n",
        "        return\n",
        "\n",
        "    img = cv2.cvtColor(img, cv2.COLOR_BGR2RGB)  # Convert BGR to RGB format (CIFAR-10 uses RGB)\n",
        "    img_resized = cv2.resize(img, (32, 32))  # Resize to CIFAR-10 dimensions (32x32)\n",
        "\n",
        "    img_tensor = transform(img_resized).unsqueeze(0)  # Convert to tensor and add batch dimension\n",
        "\n",
        "    with torch.no_grad():\n",
        "        output = model(img_tensor)\n",
        "        _, predicted_class = torch.max(output.data, 1)\n",
        "\n",
        "    classes = train_data.classes\n",
        "    print(f'Prediction result: {classes[predicted_class.item()]}')"
      ]
    },
    {
      "cell_type": "markdown",
      "metadata": {
        "id": "qu_4nh7o_b7S"
      },
      "source": [
        "Command Line prompts"
      ]
    },
    {
      "cell_type": "code",
      "execution_count": 10,
      "metadata": {
        "id": "vA1MWw0x_a-9"
      },
      "outputs": [],
      "source": [
        "if __name__ == \"__main__\":\n",
        "    import sys\n",
        "\n",
        "    command = sys.argv[1]\n",
        "\n",
        "    if command == \"train\":\n",
        "        train()\n",
        "\n",
        "    elif command == \"test\":\n",
        "        image_path = sys.argv[2]\n",
        "        classify(image_path)"
      ]
    },
    {
      "cell_type": "markdown",
      "metadata": {
        "id": "-GGMmiO1AQG5"
      },
      "source": [
        "Run Training"
      ]
    },
    {
      "cell_type": "code",
      "execution_count": 19,
      "metadata": {
        "colab": {
          "base_uri": "https://localhost:8080/"
        },
        "id": "K0sq0hq5AZr2",
        "outputId": "f09ba60e-01bc-4ea7-f915-7e55f33278e9"
      },
      "outputs": [
        {
          "output_type": "stream",
          "name": "stdout",
          "text": [
            "python3: can't open file '/content/classify1.py': [Errno 2] No such file or directory\n"
          ]
        }
      ],
      "source": [
        "!python3 classify1.py train"
      ]
    },
    {
      "cell_type": "markdown",
      "metadata": {
        "id": "8K6epvE1AYoZ"
      },
      "source": [
        "train"
      ]
    }
  ],
  "metadata": {
    "accelerator": "GPU",
    "colab": {
      "gpuType": "T4",
      "provenance": [],
      "authorship_tag": "ABX9TyNVUKLIcJUmi2ous5XoGTOb",
      "include_colab_link": true
    },
    "kernelspec": {
      "display_name": "Python 3",
      "name": "python3"
    },
    "language_info": {
      "name": "python"
    }
  },
  "nbformat": 4,
  "nbformat_minor": 0
}